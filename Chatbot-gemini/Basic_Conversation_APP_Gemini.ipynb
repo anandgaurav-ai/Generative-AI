{
  "nbformat": 4,
  "nbformat_minor": 0,
  "metadata": {
    "colab": {
      "provenance": []
    },
    "kernelspec": {
      "name": "python3",
      "display_name": "Python 3"
    },
    "language_info": {
      "name": "python"
    }
  },
  "cells": [
    {
      "cell_type": "code",
      "source": [
        "import warnings\n",
        "warnings.filterwarnings(\"ignore\")"
      ],
      "metadata": {
        "id": "fw4lpa0bCKE0"
      },
      "execution_count": null,
      "outputs": []
    },
    {
      "cell_type": "code",
      "source": [
        "!pip install langchain-google-genai==2.0.7"
      ],
      "metadata": {
        "colab": {
          "base_uri": "https://localhost:8080/"
        },
        "id": "urMtloLUQc_a",
        "outputId": "9a1d50e7-d0c7-41d2-96c3-a8db26a2a383"
      },
      "execution_count": null,
      "outputs": [
        {
          "output_type": "stream",
          "name": "stdout",
          "text": [
            "Requirement already satisfied: langchain-google-genai==2.0.7 in /usr/local/lib/python3.11/dist-packages (2.0.7)\n",
            "Requirement already satisfied: filetype<2.0.0,>=1.2.0 in /usr/local/lib/python3.11/dist-packages (from langchain-google-genai==2.0.7) (1.2.0)\n",
            "Requirement already satisfied: google-generativeai<0.9.0,>=0.8.0 in /usr/local/lib/python3.11/dist-packages (from langchain-google-genai==2.0.7) (0.8.4)\n",
            "Requirement already satisfied: langchain-core<0.4,>=0.3.15 in /usr/local/lib/python3.11/dist-packages (from langchain-google-genai==2.0.7) (0.3.31)\n",
            "Requirement already satisfied: pydantic<3,>=2 in /usr/local/lib/python3.11/dist-packages (from langchain-google-genai==2.0.7) (2.10.5)\n",
            "Requirement already satisfied: google-ai-generativelanguage==0.6.15 in /usr/local/lib/python3.11/dist-packages (from google-generativeai<0.9.0,>=0.8.0->langchain-google-genai==2.0.7) (0.6.15)\n",
            "Requirement already satisfied: google-api-core in /usr/local/lib/python3.11/dist-packages (from google-generativeai<0.9.0,>=0.8.0->langchain-google-genai==2.0.7) (2.19.2)\n",
            "Requirement already satisfied: google-api-python-client in /usr/local/lib/python3.11/dist-packages (from google-generativeai<0.9.0,>=0.8.0->langchain-google-genai==2.0.7) (2.155.0)\n",
            "Requirement already satisfied: google-auth>=2.15.0 in /usr/local/lib/python3.11/dist-packages (from google-generativeai<0.9.0,>=0.8.0->langchain-google-genai==2.0.7) (2.27.0)\n",
            "Requirement already satisfied: protobuf in /usr/local/lib/python3.11/dist-packages (from google-generativeai<0.9.0,>=0.8.0->langchain-google-genai==2.0.7) (4.25.5)\n",
            "Requirement already satisfied: tqdm in /usr/local/lib/python3.11/dist-packages (from google-generativeai<0.9.0,>=0.8.0->langchain-google-genai==2.0.7) (4.67.1)\n",
            "Requirement already satisfied: typing-extensions in /usr/local/lib/python3.11/dist-packages (from google-generativeai<0.9.0,>=0.8.0->langchain-google-genai==2.0.7) (4.12.2)\n",
            "Requirement already satisfied: proto-plus<2.0.0dev,>=1.22.3 in /usr/local/lib/python3.11/dist-packages (from google-ai-generativelanguage==0.6.15->google-generativeai<0.9.0,>=0.8.0->langchain-google-genai==2.0.7) (1.25.0)\n",
            "Requirement already satisfied: PyYAML>=5.3 in /usr/local/lib/python3.11/dist-packages (from langchain-core<0.4,>=0.3.15->langchain-google-genai==2.0.7) (6.0.2)\n",
            "Requirement already satisfied: jsonpatch<2.0,>=1.33 in /usr/local/lib/python3.11/dist-packages (from langchain-core<0.4,>=0.3.15->langchain-google-genai==2.0.7) (1.33)\n",
            "Requirement already satisfied: langsmith<0.4,>=0.1.125 in /usr/local/lib/python3.11/dist-packages (from langchain-core<0.4,>=0.3.15->langchain-google-genai==2.0.7) (0.1.147)\n",
            "Requirement already satisfied: packaging<25,>=23.2 in /usr/local/lib/python3.11/dist-packages (from langchain-core<0.4,>=0.3.15->langchain-google-genai==2.0.7) (23.2)\n",
            "Requirement already satisfied: tenacity!=8.4.0,<10.0.0,>=8.1.0 in /usr/local/lib/python3.11/dist-packages (from langchain-core<0.4,>=0.3.15->langchain-google-genai==2.0.7) (8.5.0)\n",
            "Requirement already satisfied: annotated-types>=0.6.0 in /usr/local/lib/python3.11/dist-packages (from pydantic<3,>=2->langchain-google-genai==2.0.7) (0.7.0)\n",
            "Requirement already satisfied: pydantic-core==2.27.2 in /usr/local/lib/python3.11/dist-packages (from pydantic<3,>=2->langchain-google-genai==2.0.7) (2.27.2)\n",
            "Requirement already satisfied: googleapis-common-protos<2.0.dev0,>=1.56.2 in /usr/local/lib/python3.11/dist-packages (from google-api-core->google-generativeai<0.9.0,>=0.8.0->langchain-google-genai==2.0.7) (1.66.0)\n",
            "Requirement already satisfied: requests<3.0.0.dev0,>=2.18.0 in /usr/local/lib/python3.11/dist-packages (from google-api-core->google-generativeai<0.9.0,>=0.8.0->langchain-google-genai==2.0.7) (2.32.3)\n",
            "Requirement already satisfied: cachetools<6.0,>=2.0.0 in /usr/local/lib/python3.11/dist-packages (from google-auth>=2.15.0->google-generativeai<0.9.0,>=0.8.0->langchain-google-genai==2.0.7) (5.5.0)\n",
            "Requirement already satisfied: pyasn1-modules>=0.2.1 in /usr/local/lib/python3.11/dist-packages (from google-auth>=2.15.0->google-generativeai<0.9.0,>=0.8.0->langchain-google-genai==2.0.7) (0.4.1)\n",
            "Requirement already satisfied: rsa<5,>=3.1.4 in /usr/local/lib/python3.11/dist-packages (from google-auth>=2.15.0->google-generativeai<0.9.0,>=0.8.0->langchain-google-genai==2.0.7) (4.9)\n",
            "Requirement already satisfied: jsonpointer>=1.9 in /usr/local/lib/python3.11/dist-packages (from jsonpatch<2.0,>=1.33->langchain-core<0.4,>=0.3.15->langchain-google-genai==2.0.7) (3.0.0)\n",
            "Requirement already satisfied: httpx<1,>=0.23.0 in /usr/local/lib/python3.11/dist-packages (from langsmith<0.4,>=0.1.125->langchain-core<0.4,>=0.3.15->langchain-google-genai==2.0.7) (0.28.1)\n",
            "Requirement already satisfied: orjson<4.0.0,>=3.9.14 in /usr/local/lib/python3.11/dist-packages (from langsmith<0.4,>=0.1.125->langchain-core<0.4,>=0.3.15->langchain-google-genai==2.0.7) (3.10.14)\n",
            "Requirement already satisfied: requests-toolbelt<2.0.0,>=1.0.0 in /usr/local/lib/python3.11/dist-packages (from langsmith<0.4,>=0.1.125->langchain-core<0.4,>=0.3.15->langchain-google-genai==2.0.7) (1.0.0)\n",
            "Requirement already satisfied: httplib2<1.dev0,>=0.19.0 in /usr/local/lib/python3.11/dist-packages (from google-api-python-client->google-generativeai<0.9.0,>=0.8.0->langchain-google-genai==2.0.7) (0.22.0)\n",
            "Requirement already satisfied: google-auth-httplib2<1.0.0,>=0.2.0 in /usr/local/lib/python3.11/dist-packages (from google-api-python-client->google-generativeai<0.9.0,>=0.8.0->langchain-google-genai==2.0.7) (0.2.0)\n",
            "Requirement already satisfied: uritemplate<5,>=3.0.1 in /usr/local/lib/python3.11/dist-packages (from google-api-python-client->google-generativeai<0.9.0,>=0.8.0->langchain-google-genai==2.0.7) (4.1.1)\n",
            "Requirement already satisfied: grpcio<2.0dev,>=1.33.2 in /usr/local/lib/python3.11/dist-packages (from google-api-core[grpc]!=2.0.*,!=2.1.*,!=2.10.*,!=2.2.*,!=2.3.*,!=2.4.*,!=2.5.*,!=2.6.*,!=2.7.*,!=2.8.*,!=2.9.*,<3.0.0dev,>=1.34.1->google-ai-generativelanguage==0.6.15->google-generativeai<0.9.0,>=0.8.0->langchain-google-genai==2.0.7) (1.69.0)\n",
            "Requirement already satisfied: grpcio-status<2.0.dev0,>=1.33.2 in /usr/local/lib/python3.11/dist-packages (from google-api-core[grpc]!=2.0.*,!=2.1.*,!=2.10.*,!=2.2.*,!=2.3.*,!=2.4.*,!=2.5.*,!=2.6.*,!=2.7.*,!=2.8.*,!=2.9.*,<3.0.0dev,>=1.34.1->google-ai-generativelanguage==0.6.15->google-generativeai<0.9.0,>=0.8.0->langchain-google-genai==2.0.7) (1.62.3)\n",
            "Requirement already satisfied: pyparsing!=3.0.0,!=3.0.1,!=3.0.2,!=3.0.3,<4,>=2.4.2 in /usr/local/lib/python3.11/dist-packages (from httplib2<1.dev0,>=0.19.0->google-api-python-client->google-generativeai<0.9.0,>=0.8.0->langchain-google-genai==2.0.7) (3.2.1)\n",
            "Requirement already satisfied: anyio in /usr/local/lib/python3.11/dist-packages (from httpx<1,>=0.23.0->langsmith<0.4,>=0.1.125->langchain-core<0.4,>=0.3.15->langchain-google-genai==2.0.7) (3.7.1)\n",
            "Requirement already satisfied: certifi in /usr/local/lib/python3.11/dist-packages (from httpx<1,>=0.23.0->langsmith<0.4,>=0.1.125->langchain-core<0.4,>=0.3.15->langchain-google-genai==2.0.7) (2024.12.14)\n",
            "Requirement already satisfied: httpcore==1.* in /usr/local/lib/python3.11/dist-packages (from httpx<1,>=0.23.0->langsmith<0.4,>=0.1.125->langchain-core<0.4,>=0.3.15->langchain-google-genai==2.0.7) (1.0.7)\n",
            "Requirement already satisfied: idna in /usr/local/lib/python3.11/dist-packages (from httpx<1,>=0.23.0->langsmith<0.4,>=0.1.125->langchain-core<0.4,>=0.3.15->langchain-google-genai==2.0.7) (3.10)\n",
            "Requirement already satisfied: h11<0.15,>=0.13 in /usr/local/lib/python3.11/dist-packages (from httpcore==1.*->httpx<1,>=0.23.0->langsmith<0.4,>=0.1.125->langchain-core<0.4,>=0.3.15->langchain-google-genai==2.0.7) (0.14.0)\n",
            "Requirement already satisfied: pyasn1<0.7.0,>=0.4.6 in /usr/local/lib/python3.11/dist-packages (from pyasn1-modules>=0.2.1->google-auth>=2.15.0->google-generativeai<0.9.0,>=0.8.0->langchain-google-genai==2.0.7) (0.6.1)\n",
            "Requirement already satisfied: charset-normalizer<4,>=2 in /usr/local/lib/python3.11/dist-packages (from requests<3.0.0.dev0,>=2.18.0->google-api-core->google-generativeai<0.9.0,>=0.8.0->langchain-google-genai==2.0.7) (3.4.1)\n",
            "Requirement already satisfied: urllib3<3,>=1.21.1 in /usr/local/lib/python3.11/dist-packages (from requests<3.0.0.dev0,>=2.18.0->google-api-core->google-generativeai<0.9.0,>=0.8.0->langchain-google-genai==2.0.7) (2.3.0)\n",
            "Requirement already satisfied: sniffio>=1.1 in /usr/local/lib/python3.11/dist-packages (from anyio->httpx<1,>=0.23.0->langsmith<0.4,>=0.1.125->langchain-core<0.4,>=0.3.15->langchain-google-genai==2.0.7) (1.3.1)\n"
          ]
        }
      ]
    },
    {
      "cell_type": "code",
      "source": [
        "!pip install langchain==0.3.11"
      ],
      "metadata": {
        "colab": {
          "base_uri": "https://localhost:8080/"
        },
        "id": "Wk6Nh-QfHzBg",
        "outputId": "23e93fdd-1dd1-4030-8ec8-d2370ca71cb4"
      },
      "execution_count": null,
      "outputs": [
        {
          "output_type": "stream",
          "name": "stdout",
          "text": [
            "Requirement already satisfied: langchain==0.3.11 in /usr/local/lib/python3.11/dist-packages (0.3.11)\n",
            "Requirement already satisfied: PyYAML>=5.3 in /usr/local/lib/python3.11/dist-packages (from langchain==0.3.11) (6.0.2)\n",
            "Requirement already satisfied: SQLAlchemy<3,>=1.4 in /usr/local/lib/python3.11/dist-packages (from langchain==0.3.11) (2.0.37)\n",
            "Requirement already satisfied: aiohttp<4.0.0,>=3.8.3 in /usr/local/lib/python3.11/dist-packages (from langchain==0.3.11) (3.11.11)\n",
            "Requirement already satisfied: langchain-core<0.4.0,>=0.3.24 in /usr/local/lib/python3.11/dist-packages (from langchain==0.3.11) (0.3.31)\n",
            "Requirement already satisfied: langchain-text-splitters<0.4.0,>=0.3.0 in /usr/local/lib/python3.11/dist-packages (from langchain==0.3.11) (0.3.5)\n",
            "Requirement already satisfied: langsmith<0.3,>=0.1.17 in /usr/local/lib/python3.11/dist-packages (from langchain==0.3.11) (0.1.147)\n",
            "Requirement already satisfied: numpy<2,>=1.22.4 in /usr/local/lib/python3.11/dist-packages (from langchain==0.3.11) (1.26.4)\n",
            "Requirement already satisfied: pydantic<3.0.0,>=2.7.4 in /usr/local/lib/python3.11/dist-packages (from langchain==0.3.11) (2.10.5)\n",
            "Requirement already satisfied: requests<3,>=2 in /usr/local/lib/python3.11/dist-packages (from langchain==0.3.11) (2.32.3)\n",
            "Requirement already satisfied: tenacity!=8.4.0,<10,>=8.1.0 in /usr/local/lib/python3.11/dist-packages (from langchain==0.3.11) (8.5.0)\n",
            "Requirement already satisfied: aiohappyeyeballs>=2.3.0 in /usr/local/lib/python3.11/dist-packages (from aiohttp<4.0.0,>=3.8.3->langchain==0.3.11) (2.4.4)\n",
            "Requirement already satisfied: aiosignal>=1.1.2 in /usr/local/lib/python3.11/dist-packages (from aiohttp<4.0.0,>=3.8.3->langchain==0.3.11) (1.3.2)\n",
            "Requirement already satisfied: attrs>=17.3.0 in /usr/local/lib/python3.11/dist-packages (from aiohttp<4.0.0,>=3.8.3->langchain==0.3.11) (24.3.0)\n",
            "Requirement already satisfied: frozenlist>=1.1.1 in /usr/local/lib/python3.11/dist-packages (from aiohttp<4.0.0,>=3.8.3->langchain==0.3.11) (1.5.0)\n",
            "Requirement already satisfied: multidict<7.0,>=4.5 in /usr/local/lib/python3.11/dist-packages (from aiohttp<4.0.0,>=3.8.3->langchain==0.3.11) (6.1.0)\n",
            "Requirement already satisfied: propcache>=0.2.0 in /usr/local/lib/python3.11/dist-packages (from aiohttp<4.0.0,>=3.8.3->langchain==0.3.11) (0.2.1)\n",
            "Requirement already satisfied: yarl<2.0,>=1.17.0 in /usr/local/lib/python3.11/dist-packages (from aiohttp<4.0.0,>=3.8.3->langchain==0.3.11) (1.18.3)\n",
            "Requirement already satisfied: jsonpatch<2.0,>=1.33 in /usr/local/lib/python3.11/dist-packages (from langchain-core<0.4.0,>=0.3.24->langchain==0.3.11) (1.33)\n",
            "Requirement already satisfied: packaging<25,>=23.2 in /usr/local/lib/python3.11/dist-packages (from langchain-core<0.4.0,>=0.3.24->langchain==0.3.11) (23.2)\n",
            "Requirement already satisfied: typing-extensions>=4.7 in /usr/local/lib/python3.11/dist-packages (from langchain-core<0.4.0,>=0.3.24->langchain==0.3.11) (4.12.2)\n",
            "Requirement already satisfied: httpx<1,>=0.23.0 in /usr/local/lib/python3.11/dist-packages (from langsmith<0.3,>=0.1.17->langchain==0.3.11) (0.28.1)\n",
            "Requirement already satisfied: orjson<4.0.0,>=3.9.14 in /usr/local/lib/python3.11/dist-packages (from langsmith<0.3,>=0.1.17->langchain==0.3.11) (3.10.14)\n",
            "Requirement already satisfied: requests-toolbelt<2.0.0,>=1.0.0 in /usr/local/lib/python3.11/dist-packages (from langsmith<0.3,>=0.1.17->langchain==0.3.11) (1.0.0)\n",
            "Requirement already satisfied: annotated-types>=0.6.0 in /usr/local/lib/python3.11/dist-packages (from pydantic<3.0.0,>=2.7.4->langchain==0.3.11) (0.7.0)\n",
            "Requirement already satisfied: pydantic-core==2.27.2 in /usr/local/lib/python3.11/dist-packages (from pydantic<3.0.0,>=2.7.4->langchain==0.3.11) (2.27.2)\n",
            "Requirement already satisfied: charset-normalizer<4,>=2 in /usr/local/lib/python3.11/dist-packages (from requests<3,>=2->langchain==0.3.11) (3.4.1)\n",
            "Requirement already satisfied: idna<4,>=2.5 in /usr/local/lib/python3.11/dist-packages (from requests<3,>=2->langchain==0.3.11) (3.10)\n",
            "Requirement already satisfied: urllib3<3,>=1.21.1 in /usr/local/lib/python3.11/dist-packages (from requests<3,>=2->langchain==0.3.11) (2.3.0)\n",
            "Requirement already satisfied: certifi>=2017.4.17 in /usr/local/lib/python3.11/dist-packages (from requests<3,>=2->langchain==0.3.11) (2024.12.14)\n",
            "Requirement already satisfied: greenlet!=0.4.17 in /usr/local/lib/python3.11/dist-packages (from SQLAlchemy<3,>=1.4->langchain==0.3.11) (3.1.1)\n",
            "Requirement already satisfied: anyio in /usr/local/lib/python3.11/dist-packages (from httpx<1,>=0.23.0->langsmith<0.3,>=0.1.17->langchain==0.3.11) (3.7.1)\n",
            "Requirement already satisfied: httpcore==1.* in /usr/local/lib/python3.11/dist-packages (from httpx<1,>=0.23.0->langsmith<0.3,>=0.1.17->langchain==0.3.11) (1.0.7)\n",
            "Requirement already satisfied: h11<0.15,>=0.13 in /usr/local/lib/python3.11/dist-packages (from httpcore==1.*->httpx<1,>=0.23.0->langsmith<0.3,>=0.1.17->langchain==0.3.11) (0.14.0)\n",
            "Requirement already satisfied: jsonpointer>=1.9 in /usr/local/lib/python3.11/dist-packages (from jsonpatch<2.0,>=1.33->langchain-core<0.4.0,>=0.3.24->langchain==0.3.11) (3.0.0)\n",
            "Requirement already satisfied: sniffio>=1.1 in /usr/local/lib/python3.11/dist-packages (from anyio->httpx<1,>=0.23.0->langsmith<0.3,>=0.1.17->langchain==0.3.11) (1.3.1)\n"
          ]
        }
      ]
    },
    {
      "cell_type": "code",
      "execution_count": null,
      "metadata": {
        "id": "Mfw6o29rHkAu"
      },
      "outputs": [],
      "source": [
        "import os\n",
        "import yaml\n",
        "\n",
        "with open('gemini_key.yml', 'r') as file:\n",
        "  api_creds = yaml.safe_load(file)\n",
        "\n",
        "os.environ['GOOGLE_API_KEY'] = api_creds['gemini_key']"
      ]
    },
    {
      "cell_type": "code",
      "source": [
        "api_creds.keys()"
      ],
      "metadata": {
        "colab": {
          "base_uri": "https://localhost:8080/"
        },
        "id": "0w8Vw-EJIYFg",
        "outputId": "78404f9b-ea20-4f74-fd52-491d4f50c3e1"
      },
      "execution_count": null,
      "outputs": [
        {
          "output_type": "execute_result",
          "data": {
            "text/plain": [
              "dict_keys(['gemini_key'])"
            ]
          },
          "metadata": {},
          "execution_count": 4
        }
      ]
    },
    {
      "cell_type": "markdown",
      "source": [
        "### Load necessary libraries and Google Gemini LLM"
      ],
      "metadata": {
        "id": "mcODXhSAIdy5"
      }
    },
    {
      "cell_type": "code",
      "source": [
        "from langchain_core.prompts import ChatPromptTemplate\n",
        "from langchain_google_genai import ChatGoogleGenerativeAI"
      ],
      "metadata": {
        "id": "UTQiNYmvImkS"
      },
      "execution_count": null,
      "outputs": []
    },
    {
      "cell_type": "code",
      "source": [
        "gemini_model = ChatGoogleGenerativeAI(model = \"gemini-pro\", convert_system_message_to_human = True)"
      ],
      "metadata": {
        "id": "g8T2fLaDREJE"
      },
      "execution_count": null,
      "outputs": []
    },
    {
      "cell_type": "markdown",
      "source": [
        "### Create a basic Chain"
      ],
      "metadata": {
        "id": "4WiKzRli__YX"
      }
    },
    {
      "cell_type": "code",
      "source": [
        "PROMPT = \"tell me a joke about {topic}\"\n",
        "prompt = ChatPromptTemplate.from_template(PROMPT)\n",
        "\n",
        "chain = (\n",
        "         prompt\n",
        "         |\n",
        "         gemini_model\n",
        ")\n",
        "response = chain.invoke({\"topic\": \"AI\"})\n",
        "print(response.content)"
      ],
      "metadata": {
        "colab": {
          "base_uri": "https://localhost:8080/"
        },
        "id": "2u83IVEURfHA",
        "outputId": "f0921015-aa32-4862-86d5-d72b08208bb0"
      },
      "execution_count": null,
      "outputs": [
        {
          "output_type": "stream",
          "name": "stderr",
          "text": [
            "/usr/local/lib/python3.11/dist-packages/langchain_google_genai/chat_models.py:310: UserWarning: Convert_system_message_to_human will be deprecated!\n",
            "  warnings.warn(\"Convert_system_message_to_human will be deprecated!\")\n"
          ]
        },
        {
          "output_type": "stream",
          "name": "stdout",
          "text": [
            "Why did the AI cross the road?\n",
            "\n",
            "To get to the other algorithm.\n"
          ]
        }
      ]
    },
    {
      "cell_type": "code",
      "source": [
        "# can be used on multiple prompts also\n",
        "topics = [{\"topic\":\"Gen_AI\"}, {\"topic\":\"Statistics\"}]\n",
        "\n",
        "responses = chain.map().invoke(topics)"
      ],
      "metadata": {
        "id": "u4cajgzHbrqN",
        "colab": {
          "base_uri": "https://localhost:8080/"
        },
        "outputId": "1ca7546d-4132-4859-86b3-85817b03800c"
      },
      "execution_count": null,
      "outputs": [
        {
          "output_type": "stream",
          "name": "stderr",
          "text": [
            "/usr/local/lib/python3.11/dist-packages/langchain_google_genai/chat_models.py:310: UserWarning: Convert_system_message_to_human will be deprecated!\n",
            "  warnings.warn(\"Convert_system_message_to_human will be deprecated!\")\n",
            "/usr/local/lib/python3.11/dist-packages/langchain_google_genai/chat_models.py:310: UserWarning: Convert_system_message_to_human will be deprecated!\n",
            "  warnings.warn(\"Convert_system_message_to_human will be deprecated!\")\n"
          ]
        }
      ]
    },
    {
      "cell_type": "code",
      "source": [
        "for response in responses:\n",
        "  print(response.content)\n",
        "  print(\"-\"*100)\n",
        "  print(\"\\n\")"
      ],
      "metadata": {
        "id": "nhZ0eexpIcCW",
        "colab": {
          "base_uri": "https://localhost:8080/"
        },
        "outputId": "739f6663-7751-4971-b68d-f996bd2b93d0"
      },
      "execution_count": null,
      "outputs": [
        {
          "output_type": "stream",
          "name": "stdout",
          "text": [
            "Why did Gen_AI cross the road?\n",
            "\n",
            "To get to the other prompt!\n",
            "----------------------------------------------------------------------------------------------------\n",
            "\n",
            "\n",
            "Why did the statistician get lost in the forest?\n",
            "\n",
            "Because he took the average turn.\n",
            "----------------------------------------------------------------------------------------------------\n",
            "\n",
            "\n"
          ]
        }
      ]
    },
    {
      "cell_type": "markdown",
      "source": [
        "### Basic Chains are ad-hoc, No Conversation history"
      ],
      "metadata": {
        "id": "fitcgbBjAZJK"
      }
    },
    {
      "cell_type": "code",
      "source": [
        "prompt = ChatPromptTemplate.from_template(\"{query}\")\n",
        "\n",
        "basic_chain =(\n",
        "              prompt\n",
        "              |\n",
        "              gemini_model\n",
        ")\n",
        "\n",
        "response = basic_chain.invoke({\"query\": \"what are the first 4 planets in the solar system?\"})\n",
        "print(response.content)"
      ],
      "metadata": {
        "colab": {
          "base_uri": "https://localhost:8080/"
        },
        "id": "XduWyYecAezP",
        "outputId": "c8156bf0-433d-418b-94a1-2a3ced1c3c18"
      },
      "execution_count": null,
      "outputs": [
        {
          "output_type": "stream",
          "name": "stderr",
          "text": [
            "/usr/local/lib/python3.11/dist-packages/langchain_google_genai/chat_models.py:310: UserWarning: Convert_system_message_to_human will be deprecated!\n",
            "  warnings.warn(\"Convert_system_message_to_human will be deprecated!\")\n"
          ]
        },
        {
          "output_type": "stream",
          "name": "stdout",
          "text": [
            "1. Mercury\n",
            "2. Venus\n",
            "3. Earth\n",
            "4. Mars\n"
          ]
        }
      ]
    },
    {
      "cell_type": "code",
      "source": [
        "response = basic_chain.invoke({\"query\": \"And the last three?\"})\n",
        "print(response.content)"
      ],
      "metadata": {
        "colab": {
          "base_uri": "https://localhost:8080/"
        },
        "id": "Mr6TPyv6BPPU",
        "outputId": "7cfc0c8e-625d-4576-fa45-86966787ff53"
      },
      "execution_count": null,
      "outputs": [
        {
          "output_type": "stream",
          "name": "stdout",
          "text": [
            "1. **Dark Side of the Moon** by Pink Floyd (1973)\n",
            "2. **Thriller** by Michael Jackson (1982)\n",
            "3. **Back in Black** by AC/DC (1980)\n"
          ]
        }
      ]
    },
    {
      "cell_type": "markdown",
      "source": [
        "#### Here, we can see that the second response generated has no contextual correlation with the previous response."
      ],
      "metadata": {
        "id": "Jw0FzuDzCbSc"
      }
    },
    {
      "cell_type": "markdown",
      "source": [
        "### Add Memory to build a conversation chain"
      ],
      "metadata": {
        "id": "F515qOU-_8Z4"
      }
    },
    {
      "cell_type": "code",
      "source": [
        "from langchain.memory import ConversationBufferWindowMemory\n",
        "from langchain_core.prompts import ChatPromptTemplate, MessagesPlaceholder\n",
        "from langchain_core.runnables import RunnableLambda, RunnablePassthrough"
      ],
      "metadata": {
        "id": "cvk7_0voAAun"
      },
      "execution_count": null,
      "outputs": []
    },
    {
      "cell_type": "code",
      "source": [
        "# Create Prompt Template\n",
        "prompt = ChatPromptTemplate.from_messages(\n",
        "     [\n",
        "         (\"system\", \"Act as a helpful AI Assistant\"),\n",
        "         MessagesPlaceholder(variable_name = \"history\"),\n",
        "         (\"human\", \"{input}\")\n",
        "     ]\n",
        ")\n",
        "\n",
        "# k=3 stores last 3 conversations between you and gemini\n",
        "memory = ConversationBufferWindowMemory(k=3, return_messages = True)"
      ],
      "metadata": {
        "id": "6Frn0ZCdIR6-"
      },
      "execution_count": null,
      "outputs": []
    },
    {
      "cell_type": "code",
      "source": [
        "memory.load_memory_variables({}) # Shows the conversation history"
      ],
      "metadata": {
        "colab": {
          "base_uri": "https://localhost:8080/"
        },
        "id": "JoqdpEiSJ35P",
        "outputId": "a01db1d8-fad1-4c61-e929-9daa2da40098"
      },
      "execution_count": null,
      "outputs": [
        {
          "output_type": "execute_result",
          "data": {
            "text/plain": [
              "{'history': []}"
            ]
          },
          "metadata": {},
          "execution_count": 29
        }
      ]
    },
    {
      "cell_type": "code",
      "source": [
        "from operator import itemgetter\n",
        "\n",
        "# Create the conversation chain\n",
        "chain = (\n",
        "         RunnablePassthrough.assign(\n",
        "             history = RunnableLambda(memory.load_memory_variables)\n",
        "             |\n",
        "             itemgetter(\"history\")\n",
        "         )\n",
        "         |\n",
        "         prompt\n",
        "         |\n",
        "         gemini_model\n",
        ")"
      ],
      "metadata": {
        "id": "9JIBTTOPKCa0"
      },
      "execution_count": null,
      "outputs": []
    },
    {
      "cell_type": "code",
      "source": [
        "user_input = {\"input\": \"what are the first 4 planets in the solar system\"}\n",
        "response = chain.invoke(user_input)\n",
        "response.content"
      ],
      "metadata": {
        "id": "aq4XzHj5C4BS",
        "colab": {
          "base_uri": "https://localhost:8080/",
          "height": 35
        },
        "outputId": "4652f422-6a41-46e2-dc07-548ff397746e"
      },
      "execution_count": null,
      "outputs": [
        {
          "output_type": "execute_result",
          "data": {
            "text/plain": [
              "'1. Mercury\\n2. Venus\\n3. Earth\\n4. Mars'"
            ],
            "application/vnd.google.colaboratory.intrinsic+json": {
              "type": "string"
            }
          },
          "metadata": {},
          "execution_count": 31
        }
      ]
    },
    {
      "cell_type": "code",
      "source": [
        "memory.load_memory_variables({})"
      ],
      "metadata": {
        "colab": {
          "base_uri": "https://localhost:8080/"
        },
        "id": "2ybl86LuLOVB",
        "outputId": "de52dd28-5793-4185-8e5f-099c60727451"
      },
      "execution_count": null,
      "outputs": [
        {
          "output_type": "execute_result",
          "data": {
            "text/plain": [
              "{'history': []}"
            ]
          },
          "metadata": {},
          "execution_count": 32
        }
      ]
    },
    {
      "cell_type": "code",
      "source": [
        "# remember to save your conversation to the memory\n",
        "memory.save_context(user_input, {\"output\": response.content})\n",
        "memory.load_memory_variables({}) # remembers the conversation history"
      ],
      "metadata": {
        "colab": {
          "base_uri": "https://localhost:8080/"
        },
        "id": "tjDyT5oXN-pJ",
        "outputId": "392b2ddb-5b90-4f40-a301-9526799868ab"
      },
      "execution_count": null,
      "outputs": [
        {
          "output_type": "execute_result",
          "data": {
            "text/plain": [
              "{'history': [HumanMessage(content='what are the first 4 planets in the solar system', additional_kwargs={}, response_metadata={}),\n",
              "  AIMessage(content='1. Mercury\\n2. Venus\\n3. Earth\\n4. Mars', additional_kwargs={}, response_metadata={})]}"
            ]
          },
          "metadata": {},
          "execution_count": 33
        }
      ]
    },
    {
      "cell_type": "code",
      "source": [
        "user_input = {\"input\": \"And the last 4?\"}\n",
        "response = chain.invoke(user_input)\n",
        "print(response.content)"
      ],
      "metadata": {
        "colab": {
          "base_uri": "https://localhost:8080/"
        },
        "id": "2903nyM9OdRv",
        "outputId": "a5168df0-3b1e-4899-8523-a3910f216872"
      },
      "execution_count": null,
      "outputs": [
        {
          "output_type": "stream",
          "name": "stdout",
          "text": [
            "The last 4 planets in the solar system are:\n",
            "\n",
            "1. Jupiter\n",
            "2. Saturn\n",
            "3. Uranus\n",
            "4. Neptune\n"
          ]
        }
      ]
    },
    {
      "cell_type": "code",
      "source": [
        "memory.save_context(user_input, {\"output\":response.content})\n",
        "memory.load_memory_variables({})"
      ],
      "metadata": {
        "colab": {
          "base_uri": "https://localhost:8080/"
        },
        "id": "BhshhhESOyNr",
        "outputId": "81c0a629-85c4-4d69-9042-d87d33deb75b"
      },
      "execution_count": null,
      "outputs": [
        {
          "output_type": "execute_result",
          "data": {
            "text/plain": [
              "{'history': [HumanMessage(content='what are the first 4 planets in the solar system', additional_kwargs={}, response_metadata={}),\n",
              "  AIMessage(content='1. Mercury\\n2. Venus\\n3. Earth\\n4. Mars', additional_kwargs={}, response_metadata={}),\n",
              "  HumanMessage(content='And the last 4?', additional_kwargs={}, response_metadata={}),\n",
              "  AIMessage(content='The last 4 planets in the solar system are:\\n\\n1. Jupiter\\n2. Saturn\\n3. Uranus\\n4. Neptune', additional_kwargs={}, response_metadata={})]}"
            ]
          },
          "metadata": {},
          "execution_count": 35
        }
      ]
    },
    {
      "cell_type": "code",
      "source": [
        "user_input = {\"input\": \"which is the largest among all?\"}\n",
        "response = chain.invoke(user_input)\n",
        "print(response.content)"
      ],
      "metadata": {
        "colab": {
          "base_uri": "https://localhost:8080/"
        },
        "id": "ipmFi5otPDj7",
        "outputId": "3578cf63-611e-4e28-f3ba-a2ecdde335c2"
      },
      "execution_count": null,
      "outputs": [
        {
          "output_type": "stream",
          "name": "stdout",
          "text": [
            "Jupiter is the largest planet in the solar system. It is a gas giant with a mass that is more than twice the mass of all the other planets in the solar system combined. Jupiter is also the fastest rotating planet in the solar system, with a day that lasts only about 10 hours.\n",
            "\n",
            "Here is a table of the sizes of the planets in the solar system, from largest to smallest:\n",
            "\n",
            "| Planet | Diameter (km) |\n",
            "|---|---|\n",
            "| Jupiter | 142,984 |\n",
            "| Saturn | 116,464 |\n",
            "| Uranus | 50,724 |\n",
            "| Neptune | 49,244 |\n",
            "| Earth | 12,742 |\n",
            "| Venus | 12,104 |\n",
            "| Mars | 6,779 |\n",
            "| Mercury | 4,879 |\n"
          ]
        }
      ]
    },
    {
      "cell_type": "code",
      "source": [
        "memory.save_context(user_input, {\"output\": response.content})\n",
        "memory.load_memory_variables({})"
      ],
      "metadata": {
        "colab": {
          "base_uri": "https://localhost:8080/"
        },
        "id": "C7EWI5UJPaW7",
        "outputId": "d4227e5b-0149-4271-d0c9-c4a675094637"
      },
      "execution_count": null,
      "outputs": [
        {
          "output_type": "execute_result",
          "data": {
            "text/plain": [
              "{'history': [HumanMessage(content='what are the first 4 planets in the solar system', additional_kwargs={}, response_metadata={}),\n",
              "  AIMessage(content='1. Mercury\\n2. Venus\\n3. Earth\\n4. Mars', additional_kwargs={}, response_metadata={}),\n",
              "  HumanMessage(content='And the last 4?', additional_kwargs={}, response_metadata={}),\n",
              "  AIMessage(content='The last 4 planets in the solar system are:\\n\\n1. Jupiter\\n2. Saturn\\n3. Uranus\\n4. Neptune', additional_kwargs={}, response_metadata={}),\n",
              "  HumanMessage(content='which is the largest among all?', additional_kwargs={}, response_metadata={}),\n",
              "  AIMessage(content='Jupiter is the largest planet in the solar system. It is a gas giant with a mass that is more than twice the mass of all the other planets in the solar system combined. Jupiter is also the fastest rotating planet in the solar system, with a day that lasts only about 10 hours.\\n\\nHere is a table of the sizes of the planets in the solar system, from largest to smallest:\\n\\n| Planet | Diameter (km) |\\n|---|---|\\n| Jupiter | 142,984 |\\n| Saturn | 116,464 |\\n| Uranus | 50,724 |\\n| Neptune | 49,244 |\\n| Earth | 12,742 |\\n| Venus | 12,104 |\\n| Mars | 6,779 |\\n| Mercury | 4,879 |', additional_kwargs={}, response_metadata={})]}"
            ]
          },
          "metadata": {},
          "execution_count": 37
        }
      ]
    },
    {
      "cell_type": "code",
      "source": [
        "user_input = {\"input\": \"And the smallest?\"}\n",
        "response = chain.invoke(user_input)\n",
        "print(response.content)"
      ],
      "metadata": {
        "colab": {
          "base_uri": "https://localhost:8080/"
        },
        "id": "gNrZ1QpkPsSF",
        "outputId": "77f6a0f9-2856-4932-b2e2-f9053b0f0a99"
      },
      "execution_count": null,
      "outputs": [
        {
          "output_type": "stream",
          "name": "stdout",
          "text": [
            "Mercury is the smallest planet in the solar system. It is a terrestrial planet with a diameter of only 4,879 kilometers (3,031 miles). Mercury is also the closest planet to the Sun, and it has a very thin atmosphere.\n",
            "\n",
            "Here is a table of the sizes of the planets in the solar system, from smallest to largest:\n",
            "\n",
            "| Planet | Diameter (km) |\n",
            "|---|---|\n",
            "| Mercury | 4,879 |\n",
            "| Mars | 6,779 |\n",
            "| Venus | 12,104 |\n",
            "| Earth | 12,742 |\n",
            "| Neptune | 49,244 |\n",
            "| Uranus | 50,724 |\n",
            "| Saturn | 116,464 |\n",
            "| Jupiter | 142,984 |\n"
          ]
        }
      ]
    },
    {
      "cell_type": "code",
      "source": [
        "user_input = {\"input\": \"which is the fastest?\"}\n",
        "response = chain.invoke(user_input)\n",
        "print(response.content)"
      ],
      "metadata": {
        "colab": {
          "base_uri": "https://localhost:8080/"
        },
        "id": "V-NO-qbOPzLv",
        "outputId": "a971dc44-afef-4c55-c987-288126563941"
      },
      "execution_count": null,
      "outputs": [
        {
          "output_type": "stream",
          "name": "stdout",
          "text": [
            "Jupiter is the fastest rotating planet in the solar system. It takes Jupiter only about 10 hours to complete one rotation, while it takes Earth 24 hours to complete one rotation. This means that a day on Jupiter is only about 10 hours long.\n",
            "\n",
            "Here is a table of the rotation periods of the planets in the solar system, from fastest to slowest:\n",
            "\n",
            "| Planet | Rotation period (hours) |\n",
            "|---|---|\n",
            "| Jupiter | 10 |\n",
            "| Saturn | 10.7 |\n",
            "| Uranus | 17.2 |\n",
            "| Neptune | 16.1 |\n",
            "| Earth | 24 |\n",
            "| Venus | 243 |\n",
            "| Mars | 24.6 |\n",
            "| Mercury | 58.6 |\n",
            "\n",
            "As you can see, Jupiter's rotation period is much shorter than the rotation periods of the other planets in the solar system. This is because Jupiter is a gas giant, and gas giants rotate much faster than rocky planets.\n"
          ]
        }
      ]
    },
    {
      "cell_type": "code",
      "source": [
        "user_input = {\"input\": \"which is the slowest?\"}\n",
        "response = chain.invoke(user_input)\n",
        "print(response.content)"
      ],
      "metadata": {
        "colab": {
          "base_uri": "https://localhost:8080/"
        },
        "id": "iza-DqNUP893",
        "outputId": "e98a7cd1-2511-476d-f37f-e1a113c2b54b"
      },
      "execution_count": null,
      "outputs": [
        {
          "output_type": "stream",
          "name": "stdout",
          "text": [
            "Mercury is the slowest planet in the solar system. It takes Mercury 88 Earth days to orbit the Sun, which is the longest orbital period of any planet in the solar system. Mercury's slow orbit is due to its proximity to the Sun. The Sun's gravity exerts a strong pull on Mercury, which slows down its orbit.\n",
            "\n",
            "Here is a table of the orbital periods of the planets in the solar system, from slowest to fastest:\n",
            "\n",
            "| Planet | Orbital period (Earth days) |\n",
            "|---|---|\n",
            "| Mercury | 88 |\n",
            "| Venus | 225 |\n",
            "| Earth | 365 |\n",
            "| Mars | 687 |\n",
            "| Jupiter | 4,333 |\n",
            "| Saturn | 10,759 |\n",
            "| Uranus | 30,685 |\n",
            "| Neptune | 60,190 |\n"
          ]
        }
      ]
    },
    {
      "cell_type": "code",
      "source": [],
      "metadata": {
        "id": "NnbzergbQPgM"
      },
      "execution_count": null,
      "outputs": []
    }
  ]
}